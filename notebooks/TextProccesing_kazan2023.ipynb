{
  "cells": [
    {
      "cell_type": "markdown",
      "metadata": {
        "id": "lYolNs6zgRrZ"
      },
      "source": [
        "# Text Processing"
      ]
    },
    {
      "cell_type": "markdown",
      "metadata": {
        "id": "vVNrYU79khZj"
      },
      "source": [
        "### setup"
      ]
    },
    {
      "attachments": {},
      "cell_type": "markdown",
      "metadata": {
        "id": "WjpgniWpyS1S"
      },
      "source": [
        "##### install"
      ]
    },
    {
      "cell_type": "code",
      "execution_count": null,
      "metadata": {
        "colab": {
          "base_uri": "https://localhost:8080/"
        },
        "id": "kumnWlYZJRV8",
        "outputId": "dac20e46-577e-4480-dfea-6d35257557ef"
      },
      "outputs": [],
      "source": [
        "!pip install -q transformers datasets\n",
        "!pip install -q wandb\n",
        "\n",
        "# navec embeddings\n",
        "!pip install -q navec\n",
        "!wget https://storage.yandexcloud.net/natasha-navec/packs/navec_hudlit_v1_12B_500K_300d_100q.tar"
      ]
    },
    {
      "cell_type": "code",
      "execution_count": null,
      "metadata": {
        "colab": {
          "base_uri": "https://localhost:8080/"
        },
        "id": "_HOrKME1BQm5",
        "outputId": "c74e5733-bc69-4ff1-883b-6e9b0d12cd1f"
      },
      "outputs": [],
      "source": [
        "# repo\n",
        "!git config --global user.email \"SECRET_NAME@mail.ru\"\n",
        "!git config --global user.name \"SECRET NAME\"\n",
        "!git clone https://github.com/Abletobetable/smart-product.git"
      ]
    },
    {
      "attachments": {},
      "cell_type": "markdown",
      "metadata": {
        "id": "HgPsiZpGyW5r"
      },
      "source": [
        "##### import"
      ]
    },
    {
      "cell_type": "code",
      "execution_count": null,
      "metadata": {
        "colab": {
          "base_uri": "https://localhost:8080/",
          "height": 578
        },
        "id": "_TmQbAiYMxQ8",
        "outputId": "068c2953-f1a3-4cb9-d3ed-3a9651524cff"
      },
      "outputs": [],
      "source": [
        "import os\n",
        "import re\n",
        "import json\n",
        "import shutil\n",
        "import pandas as pd\n",
        "import numpy as np\n",
        "\n",
        "import torch\n",
        "from transformers import AutoModel, AutoTokenizer\n",
        "from transformers import AutoModelForSequenceClassification\n",
        "\n",
        "# init run for efficient logging\n",
        "import wandb\n",
        "run = wandb.init(project=\"kazan_internship2023\")\n",
        "\n",
        "# load navec pretrained embeddings\n",
        "from navec import Navec\n",
        "path = 'navec_hudlit_v1_12B_500K_300d_100q.tar'\n",
        "navec = Navec.load(path)\n",
        "\n",
        "# imports from repo\n",
        "%cd /content/smart-product\n",
        "from src.text_features import create_average_navec_embed, \\\n",
        "                              preprocess_attributes, \\\n",
        "                              filter_description, \\\n",
        "                              concatenate_text_fields, \\\n",
        "                              filter_characteristics\n",
        "%cd /content\n",
        "\n",
        "DEVICE = 'cuda' if torch.cuda.is_available() else 'cpu'\n",
        "print(DEVICE)"
      ]
    },
    {
      "cell_type": "markdown",
      "metadata": {
        "id": "jr_W298nkpOc"
      },
      "source": [
        "### text processing"
      ]
    },
    {
      "attachments": {},
      "cell_type": "markdown",
      "metadata": {
        "id": "ubldXMfLkzXr"
      },
      "source": [
        "##### load preprocessed dataset"
      ]
    },
    {
      "cell_type": "code",
      "execution_count": 4,
      "metadata": {
        "id": "tDYKe1Pckxo1"
      },
      "outputs": [],
      "source": [
        "# directory with saved artifact\n",
        "table_dataset_version = 'processed_table:v0'"
      ]
    },
    {
      "cell_type": "code",
      "execution_count": null,
      "metadata": {
        "colab": {
          "base_uri": "https://localhost:8080/"
        },
        "id": "OsnjW-FalMJn",
        "outputId": "9a8257ec-f564-4edf-9de4-52067e76196e"
      },
      "outputs": [],
      "source": [
        "artifact = run.use_artifact(f'abletobetable/kazan_internship2023/{table_dataset_version}', \n",
        "                            type='preprocessed_data')\n",
        "artifact_dir = artifact.download()"
      ]
    },
    {
      "cell_type": "code",
      "execution_count": 6,
      "metadata": {
        "id": "d6_zqTRRl9YU"
      },
      "outputs": [],
      "source": [
        "train_df = pd.read_csv('/content/artifacts/processed_table:v0/train_processed.tsv', \n",
        "                       sep='\\t')\n",
        "predict_df = pd.read_csv('/content/artifacts/processed_table:v0/predict_processed.tsv', \n",
        "                         sep='\\t')"
      ]
    },
    {
      "cell_type": "code",
      "execution_count": null,
      "metadata": {
        "colab": {
          "base_uri": "https://localhost:8080/"
        },
        "id": "C0LmB8g-kvwL",
        "outputId": "11674008-8464-494b-e8a2-56350420e6e7"
      },
      "outputs": [],
      "source": [
        "train_df.columns"
      ]
    },
    {
      "cell_type": "markdown",
      "metadata": {
        "id": "E1DD3D9BlzZg"
      },
      "source": [
        "#### work with data"
      ]
    },
    {
      "attachments": {},
      "cell_type": "markdown",
      "metadata": {
        "id": "tyE_PLiJUdRN"
      },
      "source": [
        "##### informative text fields (title, description and attributes)"
      ]
    },
    {
      "cell_type": "markdown",
      "metadata": {
        "id": "EGdbc4Vl6nCp"
      },
      "source": [
        "processing"
      ]
    },
    {
      "cell_type": "code",
      "execution_count": null,
      "metadata": {
        "colab": {
          "base_uri": "https://localhost:8080/"
        },
        "id": "kY9rsprEWwo9",
        "outputId": "0b3926aa-63e6-4a9a-bab6-2498e1a709e5"
      },
      "outputs": [
        {
          "name": "stderr",
          "output_type": "stream",
          "text": [
            "100%|██████████| 91120/91120 [00:01<00:00, 69236.40it/s]\n",
            "100%|██████████| 16860/16860 [00:00<00:00, 69843.48it/s]\n",
            "100%|██████████| 91120/91120 [00:02<00:00, 43824.51it/s]\n",
            "100%|██████████| 16860/16860 [00:00<00:00, 64112.51it/s]\n"
          ]
        }
      ],
      "source": [
        "# title\n",
        "prep_title_train = train_df['title']\n",
        "prep_title_predict = predict_df['title']\n",
        "\n",
        "# attributes\n",
        "prep_attrib_train = preprocess_attributes(train_df['attributes'])\n",
        "prep_attrib_predict = preprocess_attributes(predict_df['attributes'])\n",
        "\n",
        "# description\n",
        "prep_descrip_train = filter_description(train_df['description'])\n",
        "prep_descrip_predict = filter_description(predict_df['description'])\n",
        "\n",
        "# concatenate\n",
        "concat_text_fields_train = concatenate_text_fields(train_df[['category_id', \n",
        "                                                             'product_id']], \n",
        "                                                   prep_title_train, \n",
        "                                                   prep_attrib_train, \n",
        "                                                   prep_descrip_train)\n",
        "\n",
        "concat_text_fields_predict = concatenate_text_fields(predict_df['product_id'], \n",
        "                                                     prep_title_predict, \n",
        "                                                     prep_attrib_predict, \n",
        "                                                     prep_descrip_predict)"
      ]
    },
    {
      "cell_type": "markdown",
      "metadata": {
        "id": "-3DKSZ68-nov"
      },
      "source": [
        "save dataset"
      ]
    },
    {
      "cell_type": "code",
      "execution_count": null,
      "metadata": {
        "id": "j_qNlQGP-kS_"
      },
      "outputs": [],
      "source": [
        "# will save output in this folder\n",
        "folder_path = '/content/text_fields_dataset'\n",
        "if not os.path.exists(folder_path):\n",
        "    os.mkdir(folder_path)\n",
        "\n",
        "\n",
        "concat_text_fields_train.to_csv(f'{folder_path}/text_fields_train.tsv', \n",
        "                                  sep='\\t', index=False)\n",
        "\n",
        "concat_text_fields_predict.to_csv(f'{folder_path}/text_fields_predict.tsv', \n",
        "                                  sep='\\t', index=False)"
      ]
    },
    {
      "cell_type": "markdown",
      "metadata": {
        "id": "8V640IrM4nTb"
      },
      "source": [
        "log processed text dataset"
      ]
    },
    {
      "cell_type": "code",
      "execution_count": null,
      "metadata": {
        "colab": {
          "base_uri": "https://localhost:8080/"
        },
        "id": "1sJGv_rN4qK-",
        "outputId": "2798e6d4-825f-4400-cd19-b48b1aabb8e8"
      },
      "outputs": [
        {
          "name": "stderr",
          "output_type": "stream",
          "text": [
            "\u001b[34m\u001b[1mwandb\u001b[0m: Adding directory to artifact (/content/text_fields_dataset)... Done. 0.9s\n"
          ]
        },
        {
          "data": {
            "text/plain": [
              "<wandb.sdk.wandb_artifacts.Artifact at 0x7f571e24b0d0>"
            ]
          },
          "execution_count": 17,
          "metadata": {},
          "output_type": "execute_result"
        }
      ],
      "source": [
        "text_dataset = wandb.Artifact(\"text_fields_dataset\", type=\"preprocessed_data\")\n",
        "text_dataset.add_dir(folder_path)\n",
        "run.log_artifact(text_dataset)"
      ]
    },
    {
      "attachments": {},
      "cell_type": "markdown",
      "metadata": {
        "id": "9MnI0MSpXYlX"
      },
      "source": [
        "##### other information"
      ]
    },
    {
      "cell_type": "markdown",
      "metadata": {
        "id": "y3gx6aGhVetv"
      },
      "source": [
        "every field (if it not empty) is dict\n",
        "so I will get every key from fields and concatenate in one string"
      ]
    },
    {
      "cell_type": "code",
      "execution_count": 54,
      "metadata": {
        "colab": {
          "base_uri": "https://localhost:8080/"
        },
        "id": "lqdmGX-EXf4b",
        "outputId": "5d39d825-66c8-4600-a9b5-ef655f9e50f4"
      },
      "outputs": [
        {
          "name": "stderr",
          "output_type": "stream",
          "text": [
            "100%|██████████| 91120/91120 [00:02<00:00, 40735.77it/s]\n",
            "100%|██████████| 16860/16860 [00:00<00:00, 41482.43it/s]\n"
          ]
        }
      ],
      "source": [
        "dict_text_train = pd.DataFrame(filter_characteristics(train_df))\n",
        "dict_text_train['category_id'] = train_df['category_id']\n",
        "dict_text_train['product_id'] = train_df['product_id']\n",
        "\n",
        "dict_text_predict = pd.DataFrame(filter_characteristics(predict_df))\n",
        "dict_text_predict['product_id'] = predict_df['product_id']\n",
        "\n",
        "# will save output in this folder\n",
        "folder_path = '/content/dict_text_dataset'\n",
        "if not os.path.exists(folder_path):\n",
        "    os.mkdir(folder_path)\n",
        "\n",
        "dict_text_train.to_csv(f'{folder_path}/dict_text_train.tsv', \n",
        "                         sep='\\t', index=False)\n",
        "\n",
        "dict_text_predict.to_csv(f'{folder_path}/dict_text_predict.tsv', \n",
        "                         sep='\\t', index=False)"
      ]
    },
    {
      "cell_type": "markdown",
      "metadata": {
        "id": "dF2DvOXGdvQU"
      },
      "source": [
        "log processed text dataset"
      ]
    },
    {
      "cell_type": "code",
      "execution_count": 55,
      "metadata": {
        "colab": {
          "base_uri": "https://localhost:8080/"
        },
        "id": "vLQ5QxFgdsCT",
        "outputId": "5e556520-6274-4aea-89b1-8cfdae7cbfcc"
      },
      "outputs": [
        {
          "name": "stderr",
          "output_type": "stream",
          "text": [
            "\u001b[34m\u001b[1mwandb\u001b[0m: Adding directory to artifact (/content/dict_text_dataset)... Done. 0.1s\n"
          ]
        },
        {
          "data": {
            "text/plain": [
              "<wandb.sdk.wandb_artifacts.Artifact at 0x7f22cef2f400>"
            ]
          },
          "execution_count": 55,
          "metadata": {},
          "output_type": "execute_result"
        }
      ],
      "source": [
        "text_dataset = wandb.Artifact(\"dict_text_dataset\", type=\"preprocessed_data\")\n",
        "text_dataset.add_dir(folder_path)\n",
        "run.log_artifact(text_dataset)"
      ]
    }
  ],
  "metadata": {
    "colab": {
      "collapsed_sections": [
        "vVNrYU79khZj",
        "WjpgniWpyS1S",
        "HgPsiZpGyW5r",
        "tyE_PLiJUdRN"
      ],
      "provenance": []
    },
    "gpuClass": "standard",
    "kernelspec": {
      "display_name": "Python 3",
      "name": "python3"
    },
    "language_info": {
      "name": "python"
    }
  },
  "nbformat": 4,
  "nbformat_minor": 0
}
