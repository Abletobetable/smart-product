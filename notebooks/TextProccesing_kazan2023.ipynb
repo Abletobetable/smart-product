{
  "cells": [
    {
      "cell_type": "markdown",
      "metadata": {
        "id": "lYolNs6zgRrZ"
      },
      "source": [
        "# Text Processing"
      ]
    },
    {
      "cell_type": "markdown",
      "metadata": {
        "id": "vVNrYU79khZj"
      },
      "source": [
        "### setup"
      ]
    },
    {
      "cell_type": "markdown",
      "metadata": {
        "id": "WjpgniWpyS1S"
      },
      "source": [
        "###### install"
      ]
    },
    {
      "cell_type": "code",
      "execution_count": 1,
      "metadata": {
        "colab": {
          "base_uri": "https://localhost:8080/"
        },
        "id": "kumnWlYZJRV8",
        "outputId": "dac20e46-577e-4480-dfea-6d35257557ef"
      },
      "outputs": [
        {
          "name": "stdout",
          "output_type": "stream",
          "text": [
            "\u001b[2K     \u001b[90m━━━━━━━━━━━━━━━━━━━━━━━━━━━━━━━━━━━━━━━━\u001b[0m \u001b[32m6.3/6.3 MB\u001b[0m \u001b[31m37.2 MB/s\u001b[0m eta \u001b[36m0:00:00\u001b[0m\n",
            "\u001b[2K     \u001b[90m━━━━━━━━━━━━━━━━━━━━━━━━━━━━━━━━━━━━━━\u001b[0m \u001b[32m469.0/469.0 KB\u001b[0m \u001b[31m18.8 MB/s\u001b[0m eta \u001b[36m0:00:00\u001b[0m\n",
            "\u001b[2K     \u001b[90m━━━━━━━━━━━━━━━━━━━━━━━━━━━━━━━━━━━━━━\u001b[0m \u001b[32m199.2/199.2 KB\u001b[0m \u001b[31m12.9 MB/s\u001b[0m eta \u001b[36m0:00:00\u001b[0m\n",
            "\u001b[2K     \u001b[90m━━━━━━━━━━━━━━━━━━━━━━━━━━━━━━━━━━━━━━━━\u001b[0m \u001b[32m7.6/7.6 MB\u001b[0m \u001b[31m40.1 MB/s\u001b[0m eta \u001b[36m0:00:00\u001b[0m\n",
            "\u001b[2K     \u001b[90m━━━━━━━━━━━━━━━━━━━━━━━━━━━━━━━━━━━━━━━━\u001b[0m \u001b[32m1.0/1.0 MB\u001b[0m \u001b[31m10.3 MB/s\u001b[0m eta \u001b[36m0:00:00\u001b[0m\n",
            "\u001b[2K     \u001b[90m━━━━━━━━━━━━━━━━━━━━━━━━━━━━━━━━━━━━━━━\u001b[0m \u001b[32m132.9/132.9 KB\u001b[0m \u001b[31m1.3 MB/s\u001b[0m eta \u001b[36m0:00:00\u001b[0m\n",
            "\u001b[2K     \u001b[90m━━━━━━━━━━━━━━━━━━━━━━━━━━━━━━━━━━━━━━━\u001b[0m \u001b[32m110.5/110.5 KB\u001b[0m \u001b[31m5.1 MB/s\u001b[0m eta \u001b[36m0:00:00\u001b[0m\n",
            "\u001b[2K     \u001b[90m━━━━━━━━━━━━━━━━━━━━━━━━━━━━━━━━━━━━━━━\u001b[0m \u001b[32m212.2/212.2 KB\u001b[0m \u001b[31m1.8 MB/s\u001b[0m eta \u001b[36m0:00:00\u001b[0m\n",
            "\u001b[2K     \u001b[90m━━━━━━━━━━━━━━━━━━━━━━━━━━━━━━━━━━━━━━━\u001b[0m \u001b[32m158.8/158.8 KB\u001b[0m \u001b[31m7.1 MB/s\u001b[0m eta \u001b[36m0:00:00\u001b[0m\n",
            "\u001b[2K     \u001b[90m━━━━━━━━━━━━━━━━━━━━━━━━━━━━━━━━━━━━━━━\u001b[0m \u001b[32m114.2/114.2 KB\u001b[0m \u001b[31m2.2 MB/s\u001b[0m eta \u001b[36m0:00:00\u001b[0m\n",
            "\u001b[2K     \u001b[90m━━━━━━━━━━━━━━━━━━━━━━━━━━━━━━━━━━━━━━━\u001b[0m \u001b[32m264.6/264.6 KB\u001b[0m \u001b[31m2.4 MB/s\u001b[0m eta \u001b[36m0:00:00\u001b[0m\n",
            "\u001b[2K     \u001b[90m━━━━━━━━━━━━━━━━━━━━━━━━━━━━━━━━━━━━━━\u001b[0m \u001b[32m199.2/199.2 KB\u001b[0m \u001b[31m10.7 MB/s\u001b[0m eta \u001b[36m0:00:00\u001b[0m\n",
            "\u001b[2K     \u001b[90m━━━━━━━━━━━━━━━━━━━━━━━━━━━━━━━━━━━━━━━━\u001b[0m \u001b[32m2.0/2.0 MB\u001b[0m \u001b[31m16.1 MB/s\u001b[0m eta \u001b[36m0:00:00\u001b[0m\n",
            "\u001b[2K     \u001b[90m━━━━━━━━━━━━━━━━━━━━━━━━━━━━━━━━━━━━━━\u001b[0m \u001b[32m184.3/184.3 KB\u001b[0m \u001b[31m17.5 MB/s\u001b[0m eta \u001b[36m0:00:00\u001b[0m\n",
            "\u001b[?25h  Preparing metadata (setup.py) ... \u001b[?25l\u001b[?25hdone\n",
            "\u001b[2K     \u001b[90m━━━━━━━━━━━━━━━━━━━━━━━━━━━━━━━━━━━━━━\u001b[0m \u001b[32m184.3/184.3 KB\u001b[0m \u001b[31m17.3 MB/s\u001b[0m eta \u001b[36m0:00:00\u001b[0m\n",
            "\u001b[2K     \u001b[90m━━━━━━━━━━━━━━━━━━━━━━━━━━━━━━━━━━━━━━━━\u001b[0m \u001b[32m62.7/62.7 KB\u001b[0m \u001b[31m3.9 MB/s\u001b[0m eta \u001b[36m0:00:00\u001b[0m\n",
            "\u001b[?25h  Building wheel for pathtools (setup.py) ... \u001b[?25l\u001b[?25hdone\n",
            "--2023-03-14 12:55:19--  https://storage.yandexcloud.net/natasha-navec/packs/navec_hudlit_v1_12B_500K_300d_100q.tar\n",
            "Resolving storage.yandexcloud.net (storage.yandexcloud.net)... 213.180.193.243, 2a02:6b8::1d9\n",
            "Connecting to storage.yandexcloud.net (storage.yandexcloud.net)|213.180.193.243|:443... connected.\n",
            "HTTP request sent, awaiting response... 200 OK\n",
            "Length: 53012480 (51M) [application/x-tar]\n",
            "Saving to: ‘navec_hudlit_v1_12B_500K_300d_100q.tar’\n",
            "\n",
            "navec_hudlit_v1_12B 100%[===================>]  50.56M  16.2MB/s    in 3.1s    \n",
            "\n",
            "2023-03-14 12:55:22 (16.2 MB/s) - ‘navec_hudlit_v1_12B_500K_300d_100q.tar’ saved [53012480/53012480]\n",
            "\n"
          ]
        }
      ],
      "source": [
        "!pip install -q transformers datasets\n",
        "!pip install -q wandb\n",
        "\n",
        "# navec embeddings\n",
        "!pip install -q navec\n",
        "!wget https://storage.yandexcloud.net/natasha-navec/packs/navec_hudlit_v1_12B_500K_300d_100q.tar"
      ]
    },
    {
      "cell_type": "code",
      "execution_count": 2,
      "metadata": {
        "colab": {
          "base_uri": "https://localhost:8080/"
        },
        "id": "_HOrKME1BQm5",
        "outputId": "c74e5733-bc69-4ff1-883b-6e9b0d12cd1f"
      },
      "outputs": [
        {
          "name": "stdout",
          "output_type": "stream",
          "text": [
            "Cloning into 'smart-product'...\n",
            "remote: Enumerating objects: 257, done.\u001b[K\n",
            "remote: Counting objects: 100% (73/73), done.\u001b[K\n",
            "remote: Compressing objects: 100% (51/51), done.\u001b[K\n",
            "remote: Total 257 (delta 47), reused 44 (delta 22), pack-reused 184\u001b[K\n",
            "Receiving objects: 100% (257/257), 74.94 MiB | 27.07 MiB/s, done.\n",
            "Resolving deltas: 100% (155/155), done.\n"
          ]
        }
      ],
      "source": [
        "# repo\n",
        "!git config --global user.email \"SECRET_NAME@mail.ru\"\n",
        "!git config --global user.name \"SECRET NAME\"\n",
        "!git clone https://github.com/Abletobetable/smart-product.git"
      ]
    },
    {
      "cell_type": "markdown",
      "metadata": {
        "id": "HgPsiZpGyW5r"
      },
      "source": [
        "###### import"
      ]
    },
    {
      "cell_type": "code",
      "execution_count": 3,
      "metadata": {
        "colab": {
          "base_uri": "https://localhost:8080/",
          "height": 578
        },
        "id": "_TmQbAiYMxQ8",
        "outputId": "068c2953-f1a3-4cb9-d3ed-3a9651524cff"
      },
      "outputs": [
        {
          "data": {
            "application/javascript": "\n        window._wandbApiKey = new Promise((resolve, reject) => {\n            function loadScript(url) {\n            return new Promise(function(resolve, reject) {\n                let newScript = document.createElement(\"script\");\n                newScript.onerror = reject;\n                newScript.onload = resolve;\n                document.body.appendChild(newScript);\n                newScript.src = url;\n            });\n            }\n            loadScript(\"https://cdn.jsdelivr.net/npm/postmate/build/postmate.min.js\").then(() => {\n            const iframe = document.createElement('iframe')\n            iframe.style.cssText = \"width:0;height:0;border:none\"\n            document.body.appendChild(iframe)\n            const handshake = new Postmate({\n                container: iframe,\n                url: 'https://wandb.ai/authorize'\n            });\n            const timeout = setTimeout(() => reject(\"Couldn't auto authenticate\"), 5000)\n            handshake.then(function(child) {\n                child.on('authorize', data => {\n                    clearTimeout(timeout)\n                    resolve(data)\n                });\n            });\n            })\n        });\n    ",
            "text/plain": [
              "<IPython.core.display.Javascript object>"
            ]
          },
          "metadata": {},
          "output_type": "display_data"
        },
        {
          "name": "stderr",
          "output_type": "stream",
          "text": [
            "\u001b[34m\u001b[1mwandb\u001b[0m: Appending key for api.wandb.ai to your netrc file: /root/.netrc\n"
          ]
        },
        {
          "data": {
            "text/html": [
              "Tracking run with wandb version 0.13.11"
            ],
            "text/plain": [
              "<IPython.core.display.HTML object>"
            ]
          },
          "metadata": {},
          "output_type": "display_data"
        },
        {
          "data": {
            "text/html": [
              "Run data is saved locally in <code>/content/wandb/run-20230314_125548-bvlvl2jf</code>"
            ],
            "text/plain": [
              "<IPython.core.display.HTML object>"
            ]
          },
          "metadata": {},
          "output_type": "display_data"
        },
        {
          "data": {
            "text/html": [
              "Syncing run <strong><a href='https://wandb.ai/abletobetable/kazan_internship2023/runs/bvlvl2jf' target=\"_blank\">cherry-brulee-91</a></strong> to <a href='https://wandb.ai/abletobetable/kazan_internship2023' target=\"_blank\">Weights & Biases</a> (<a href='https://wandb.me/run' target=\"_blank\">docs</a>)<br/>"
            ],
            "text/plain": [
              "<IPython.core.display.HTML object>"
            ]
          },
          "metadata": {},
          "output_type": "display_data"
        },
        {
          "data": {
            "text/html": [
              " View project at <a href='https://wandb.ai/abletobetable/kazan_internship2023' target=\"_blank\">https://wandb.ai/abletobetable/kazan_internship2023</a>"
            ],
            "text/plain": [
              "<IPython.core.display.HTML object>"
            ]
          },
          "metadata": {},
          "output_type": "display_data"
        },
        {
          "data": {
            "text/html": [
              " View run at <a href='https://wandb.ai/abletobetable/kazan_internship2023/runs/bvlvl2jf' target=\"_blank\">https://wandb.ai/abletobetable/kazan_internship2023/runs/bvlvl2jf</a>"
            ],
            "text/plain": [
              "<IPython.core.display.HTML object>"
            ]
          },
          "metadata": {},
          "output_type": "display_data"
        },
        {
          "name": "stdout",
          "output_type": "stream",
          "text": [
            "/content/smart-product\n",
            "/content\n",
            "cpu\n"
          ]
        },
        {
          "name": "stderr",
          "output_type": "stream",
          "text": [
            "/content/smart-product/src/text_features.py:24: FutureWarning: The default dtype for empty Series will be 'object' instead of 'float64' in a future version. Specify a dtype explicitly to silence this warning.\n",
            "  sentences: pd.Series(),\n",
            "/content/smart-product/src/text_features.py:25: FutureWarning: The default dtype for empty Series will be 'object' instead of 'float64' in a future version. Specify a dtype explicitly to silence this warning.\n",
            "  category_ids: pd.Series(),\n",
            "/content/smart-product/src/text_features.py:26: FutureWarning: The default dtype for empty Series will be 'object' instead of 'float64' in a future version. Specify a dtype explicitly to silence this warning.\n",
            "  product_ids: pd.Series() = None,\n",
            "/content/smart-product/src/text_features.py:93: FutureWarning: The default dtype for empty Series will be 'object' instead of 'float64' in a future version. Specify a dtype explicitly to silence this warning.\n",
            "  def preprocess_attributes(attributes: pd.Series()) -> pd.Series():\n",
            "/content/smart-product/src/text_features.py:93: FutureWarning: The default dtype for empty Series will be 'object' instead of 'float64' in a future version. Specify a dtype explicitly to silence this warning.\n",
            "  def preprocess_attributes(attributes: pd.Series()) -> pd.Series():\n",
            "/content/smart-product/src/text_features.py:129: FutureWarning: The default dtype for empty Series will be 'object' instead of 'float64' in a future version. Specify a dtype explicitly to silence this warning.\n",
            "  def filter_description(descriptions: pd.Series()) -> pd.Series():\n",
            "/content/smart-product/src/text_features.py:129: FutureWarning: The default dtype for empty Series will be 'object' instead of 'float64' in a future version. Specify a dtype explicitly to silence this warning.\n",
            "  def filter_description(descriptions: pd.Series()) -> pd.Series():\n",
            "/content/smart-product/src/text_features.py:162: FutureWarning: The default dtype for empty Series will be 'object' instead of 'float64' in a future version. Specify a dtype explicitly to silence this warning.\n",
            "  prep_title: pd.Series(),\n",
            "/content/smart-product/src/text_features.py:163: FutureWarning: The default dtype for empty Series will be 'object' instead of 'float64' in a future version. Specify a dtype explicitly to silence this warning.\n",
            "  prep_attrib: pd.Series(),\n",
            "/content/smart-product/src/text_features.py:164: FutureWarning: The default dtype for empty Series will be 'object' instead of 'float64' in a future version. Specify a dtype explicitly to silence this warning.\n",
            "  prep_descrip: pd.Series()) -> pd.DataFrame():\n"
          ]
        }
      ],
      "source": [
        "import os\n",
        "import re\n",
        "import json\n",
        "import shutil\n",
        "import pandas as pd\n",
        "import numpy as np\n",
        "\n",
        "import torch\n",
        "from transformers import AutoModel, AutoTokenizer\n",
        "from transformers import AutoModelForSequenceClassification\n",
        "\n",
        "# init run for efficient logging\n",
        "import wandb\n",
        "run = wandb.init(project=\"kazan_internship2023\")\n",
        "\n",
        "# load navec pretrained embeddings\n",
        "from navec import Navec\n",
        "path = 'navec_hudlit_v1_12B_500K_300d_100q.tar'\n",
        "navec = Navec.load(path)\n",
        "\n",
        "# imports from repo\n",
        "%cd /content/smart-product\n",
        "from src.text_features import create_average_navec_embed, \\\n",
        "                              preprocess_attributes, \\\n",
        "                              filter_description, \\\n",
        "                              concatenate_text_fields, \\\n",
        "                              filter_characteristics\n",
        "%cd /content\n",
        "\n",
        "DEVICE = 'cuda' if torch.cuda.is_available() else 'cpu'\n",
        "print(DEVICE)"
      ]
    },
    {
      "cell_type": "markdown",
      "metadata": {
        "id": "jr_W298nkpOc"
      },
      "source": [
        "### text processing"
      ]
    },
    {
      "attachments": {},
      "cell_type": "markdown",
      "metadata": {
        "id": "ubldXMfLkzXr"
      },
      "source": [
        "##### load preprocessed dataset"
      ]
    },
    {
      "cell_type": "code",
      "execution_count": 4,
      "metadata": {
        "id": "tDYKe1Pckxo1"
      },
      "outputs": [],
      "source": [
        "# directory with saved artifact\n",
        "table_dataset_version = 'processed_table:v0'"
      ]
    },
    {
      "cell_type": "code",
      "execution_count": 5,
      "metadata": {
        "colab": {
          "base_uri": "https://localhost:8080/"
        },
        "id": "OsnjW-FalMJn",
        "outputId": "9a8257ec-f564-4edf-9de4-52067e76196e"
      },
      "outputs": [
        {
          "name": "stderr",
          "output_type": "stream",
          "text": [
            "\u001b[34m\u001b[1mwandb\u001b[0m: Downloading large artifact processed_table:v0, 390.46MB. 2 files... \n",
            "\u001b[34m\u001b[1mwandb\u001b[0m:   2 of 2 files downloaded.  \n",
            "Done. 0:0:6.2\n"
          ]
        }
      ],
      "source": [
        "artifact = run.use_artifact(f'abletobetable/kazan_internship2023/{table_dataset_version}', \n",
        "                            type='preprocessed_data')\n",
        "artifact_dir = artifact.download()"
      ]
    },
    {
      "cell_type": "code",
      "execution_count": 6,
      "metadata": {
        "id": "d6_zqTRRl9YU"
      },
      "outputs": [],
      "source": [
        "train_df = pd.read_csv('/content/artifacts/processed_table:v0/train_processed.tsv', \n",
        "                       sep='\\t')\n",
        "predict_df = pd.read_csv('/content/artifacts/processed_table:v0/predict_processed.tsv', \n",
        "                         sep='\\t')"
      ]
    },
    {
      "cell_type": "code",
      "execution_count": null,
      "metadata": {
        "colab": {
          "base_uri": "https://localhost:8080/"
        },
        "id": "C0LmB8g-kvwL",
        "outputId": "11674008-8464-494b-e8a2-56350420e6e7"
      },
      "outputs": [
        {
          "data": {
            "text/plain": [
              "Index(['product_id', 'category_id', 'sale', 'shop_id', 'shop_title', 'rating',\n",
              "       'text_fields', 'title', 'description', 'attributes',\n",
              "       'custom_characteristics', 'defined_characteristics', 'filters', 'path'],\n",
              "      dtype='object')"
            ]
          },
          "execution_count": 14,
          "metadata": {},
          "output_type": "execute_result"
        }
      ],
      "source": [
        "train_df.columns"
      ]
    },
    {
      "cell_type": "markdown",
      "metadata": {
        "id": "E1DD3D9BlzZg"
      },
      "source": [
        "#### work with data"
      ]
    },
    {
      "attachments": {},
      "cell_type": "markdown",
      "metadata": {
        "id": "tyE_PLiJUdRN"
      },
      "source": [
        "##### informative text fields (title, description and attributes)"
      ]
    },
    {
      "cell_type": "markdown",
      "metadata": {
        "id": "EGdbc4Vl6nCp"
      },
      "source": [
        "processing"
      ]
    },
    {
      "cell_type": "code",
      "execution_count": null,
      "metadata": {
        "colab": {
          "base_uri": "https://localhost:8080/"
        },
        "id": "kY9rsprEWwo9",
        "outputId": "0b3926aa-63e6-4a9a-bab6-2498e1a709e5"
      },
      "outputs": [
        {
          "name": "stderr",
          "output_type": "stream",
          "text": [
            "100%|██████████| 91120/91120 [00:01<00:00, 69236.40it/s]\n",
            "100%|██████████| 16860/16860 [00:00<00:00, 69843.48it/s]\n",
            "100%|██████████| 91120/91120 [00:02<00:00, 43824.51it/s]\n",
            "100%|██████████| 16860/16860 [00:00<00:00, 64112.51it/s]\n"
          ]
        }
      ],
      "source": [
        "# title\n",
        "prep_title_train = train_df['title']\n",
        "prep_title_predict = predict_df['title']\n",
        "\n",
        "# attributes\n",
        "prep_attrib_train = preprocess_attributes(train_df['attributes'])\n",
        "prep_attrib_predict = preprocess_attributes(predict_df['attributes'])\n",
        "\n",
        "# description\n",
        "prep_descrip_train = filter_description(train_df['description'])\n",
        "prep_descrip_predict = filter_description(predict_df['description'])\n",
        "\n",
        "# concatenate\n",
        "concat_text_fields_train = concatenate_text_fields(train_df[['category_id', \n",
        "                                                             'product_id']], \n",
        "                                                   prep_title_train, \n",
        "                                                   prep_attrib_train, \n",
        "                                                   prep_descrip_train)\n",
        "\n",
        "concat_text_fields_predict = concatenate_text_fields(predict_df['product_id'], \n",
        "                                                     prep_title_predict, \n",
        "                                                     prep_attrib_predict, \n",
        "                                                     prep_descrip_predict)"
      ]
    },
    {
      "cell_type": "markdown",
      "metadata": {
        "id": "-3DKSZ68-nov"
      },
      "source": [
        "save dataset"
      ]
    },
    {
      "cell_type": "code",
      "execution_count": null,
      "metadata": {
        "id": "j_qNlQGP-kS_"
      },
      "outputs": [],
      "source": [
        "# will save output in this folder\n",
        "folder_path = '/content/text_fields_dataset'\n",
        "if not os.path.exists(folder_path):\n",
        "    os.mkdir(folder_path)\n",
        "\n",
        "\n",
        "concat_text_fields_train.to_csv(f'{folder_path}/text_fields_train.tsv', \n",
        "                                  sep='\\t', index=False)\n",
        "\n",
        "concat_text_fields_predict.to_csv(f'{folder_path}/text_fields_predict.tsv', \n",
        "                                  sep='\\t', index=False)"
      ]
    },
    {
      "cell_type": "markdown",
      "metadata": {
        "id": "8V640IrM4nTb"
      },
      "source": [
        "log processed text dataset"
      ]
    },
    {
      "cell_type": "code",
      "execution_count": null,
      "metadata": {
        "colab": {
          "base_uri": "https://localhost:8080/"
        },
        "id": "1sJGv_rN4qK-",
        "outputId": "2798e6d4-825f-4400-cd19-b48b1aabb8e8"
      },
      "outputs": [
        {
          "name": "stderr",
          "output_type": "stream",
          "text": [
            "\u001b[34m\u001b[1mwandb\u001b[0m: Adding directory to artifact (/content/text_fields_dataset)... Done. 0.9s\n"
          ]
        },
        {
          "data": {
            "text/plain": [
              "<wandb.sdk.wandb_artifacts.Artifact at 0x7f571e24b0d0>"
            ]
          },
          "execution_count": 17,
          "metadata": {},
          "output_type": "execute_result"
        }
      ],
      "source": [
        "text_dataset = wandb.Artifact(\"text_fields_dataset\", type=\"preprocessed_data\")\n",
        "text_dataset.add_dir(folder_path)\n",
        "run.log_artifact(text_dataset)"
      ]
    },
    {
      "attachments": {},
      "cell_type": "markdown",
      "metadata": {
        "id": "9MnI0MSpXYlX"
      },
      "source": [
        "##### other information"
      ]
    },
    {
      "cell_type": "markdown",
      "metadata": {
        "id": "y3gx6aGhVetv"
      },
      "source": [
        "every field (if it not empty) is dict\n",
        "so I will get every key from fields and concatenate in one string"
      ]
    },
    {
      "cell_type": "code",
      "execution_count": 54,
      "metadata": {
        "colab": {
          "base_uri": "https://localhost:8080/"
        },
        "id": "lqdmGX-EXf4b",
        "outputId": "5d39d825-66c8-4600-a9b5-ef655f9e50f4"
      },
      "outputs": [
        {
          "name": "stderr",
          "output_type": "stream",
          "text": [
            "100%|██████████| 91120/91120 [00:02<00:00, 40735.77it/s]\n",
            "100%|██████████| 16860/16860 [00:00<00:00, 41482.43it/s]\n"
          ]
        }
      ],
      "source": [
        "dict_text_train = pd.DataFrame(filter_characteristics(train_df))\n",
        "dict_text_train['category_id'] = train_df['category_id']\n",
        "dict_text_train['product_id'] = train_df['product_id']\n",
        "\n",
        "dict_text_predict = pd.DataFrame(filter_characteristics(predict_df))\n",
        "dict_text_predict['product_id'] = predict_df['product_id']\n",
        "\n",
        "# will save output in this folder\n",
        "folder_path = '/content/dict_text_dataset'\n",
        "if not os.path.exists(folder_path):\n",
        "    os.mkdir(folder_path)\n",
        "\n",
        "dict_text_train.to_csv(f'{folder_path}/dict_text_train.tsv', \n",
        "                         sep='\\t', index=False)\n",
        "\n",
        "dict_text_predict.to_csv(f'{folder_path}/dict_text_predict.tsv', \n",
        "                         sep='\\t', index=False)"
      ]
    },
    {
      "cell_type": "markdown",
      "metadata": {
        "id": "dF2DvOXGdvQU"
      },
      "source": [
        "log processed text dataset"
      ]
    },
    {
      "cell_type": "code",
      "execution_count": 55,
      "metadata": {
        "colab": {
          "base_uri": "https://localhost:8080/"
        },
        "id": "vLQ5QxFgdsCT",
        "outputId": "5e556520-6274-4aea-89b1-8cfdae7cbfcc"
      },
      "outputs": [
        {
          "name": "stderr",
          "output_type": "stream",
          "text": [
            "\u001b[34m\u001b[1mwandb\u001b[0m: Adding directory to artifact (/content/dict_text_dataset)... Done. 0.1s\n"
          ]
        },
        {
          "data": {
            "text/plain": [
              "<wandb.sdk.wandb_artifacts.Artifact at 0x7f22cef2f400>"
            ]
          },
          "execution_count": 55,
          "metadata": {},
          "output_type": "execute_result"
        }
      ],
      "source": [
        "text_dataset = wandb.Artifact(\"dict_text_dataset\", type=\"preprocessed_data\")\n",
        "text_dataset.add_dir(folder_path)\n",
        "run.log_artifact(text_dataset)"
      ]
    }
  ],
  "metadata": {
    "colab": {
      "collapsed_sections": [
        "vVNrYU79khZj",
        "WjpgniWpyS1S",
        "HgPsiZpGyW5r",
        "tyE_PLiJUdRN"
      ],
      "provenance": []
    },
    "gpuClass": "standard",
    "kernelspec": {
      "display_name": "Python 3",
      "name": "python3"
    },
    "language_info": {
      "name": "python"
    }
  },
  "nbformat": 4,
  "nbformat_minor": 0
}
